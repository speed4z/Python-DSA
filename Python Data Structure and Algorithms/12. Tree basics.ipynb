{
 "cells": [
  {
   "cell_type": "markdown",
   "id": "eccbc9a9",
   "metadata": {},
   "source": [
    "### TREE\n",
    "    -A non-linear data structure with hierarchical relationship between its elements\n",
    "    without having any cycle.\n",
    "    -Tree represents the nodes connected by edges\n",
    "    \n",
    "#### Properties:\n",
    "    -Represents hierarchical data\n",
    "    -Base category (root) and its sub category (nodes)\n",
    "    -Each node has 2 components, data and link to its subcategory\n",
    "    "
   ]
  },
  {
   "cell_type": "markdown",
   "id": "c1acab2c",
   "metadata": {},
   "source": [
    "#### Tree use:\n",
    "    -Quicker and easier access\n",
    "    -Stores hierarchical data, like folder structure, organization structure\n",
    "    XML,HTML data.\n",
    "    \n",
    "#### Types of Trees:\n",
    "    -Binary Search Tree\n",
    "    -AVL Tree\n",
    "    -Red Black Tree\n",
    "    -Trie"
   ]
  },
  {
   "cell_type": "markdown",
   "id": "cc4321dc",
   "metadata": {},
   "source": [
    "#### Terminologies:\n",
    "    -Root : Topmost node without parent\n",
    "    -Edge : A link between parent to child node\n",
    "    -Leaf : Bottommost node which does not have children\n",
    "    -Sibling : Children of same parent\n",
    "    -Ancestor : Parent, Grand parent of a node\n",
    "    -Depth of node : A length of the path from root to node\n",
    "    -Height of a node : A length of the path from node to the deepest leaf\n",
    "    -Depth of Tree : depth of root node (0 always)\n",
    "    -Height of Tree : Height of root node\n",
    "    "
   ]
  },
  {
   "cell_type": "code",
   "execution_count": 7,
   "id": "80d6f686",
   "metadata": {},
   "outputs": [],
   "source": [
    "class TreeNode:\n",
    "    def __init__(self,data,children = []):\n",
    "        self.data = data\n",
    "        self.children = children\n",
    "        \n",
    "    def __str__(self, level = 0):\n",
    "        ret = \"\\t\"*level + str(self.data) + \"\\n\"\n",
    "        for child in self.children:\n",
    "            ret += child.__str__(level+1)\n",
    "        return ret\n",
    "    \n",
    "    def addChild(self,TreeNode):\n",
    "        self.children.append(TreeNode)"
   ]
  },
  {
   "cell_type": "code",
   "execution_count": 8,
   "id": "f54e005a",
   "metadata": {},
   "outputs": [
    {
     "name": "stdout",
     "output_type": "stream",
     "text": [
      "Drinks\n",
      "\tcold\n",
      "\thot\n",
      "\n"
     ]
    }
   ],
   "source": [
    "tree1 = TreeNode('Drinks',[])\n",
    "cold = TreeNode('cold',[])\n",
    "hot = TreeNode('hot',[])\n",
    "\n",
    "tree1.addChild(cold)\n",
    "tree1.addChild(hot)\n",
    "\n",
    "print(tree1)"
   ]
  },
  {
   "cell_type": "code",
   "execution_count": 10,
   "id": "6d86a15e",
   "metadata": {},
   "outputs": [
    {
     "name": "stdout",
     "output_type": "stream",
     "text": [
      "Drinks\n",
      "\tcold\n",
      "\t\tcola\n",
      "\t\tfanta\n",
      "\thot\n",
      "\t\tcoffee\n",
      "\t\tcoffee\n",
      "\t\ttea\n",
      "\n"
     ]
    }
   ],
   "source": [
    "tea = TreeNode('tea',[])\n",
    "coffee = TreeNode('coffee',[])\n",
    "\n",
    "cola = TreeNode('cola',[])\n",
    "fanta = TreeNode('fanta',[])\n",
    "\n",
    "hot.addChild(coffee)\n",
    "hot.addChild(tea)\n",
    "\n",
    "cold.addChild(cola)\n",
    "cold.addChild(fanta)\n",
    "\n",
    "print(tree1)"
   ]
  },
  {
   "cell_type": "code",
   "execution_count": null,
   "id": "20bce09d",
   "metadata": {},
   "outputs": [],
   "source": []
  }
 ],
 "metadata": {
  "kernelspec": {
   "display_name": "Python 3",
   "language": "python",
   "name": "python3"
  },
  "language_info": {
   "codemirror_mode": {
    "name": "ipython",
    "version": 3
   },
   "file_extension": ".py",
   "mimetype": "text/x-python",
   "name": "python",
   "nbconvert_exporter": "python",
   "pygments_lexer": "ipython3",
   "version": "3.8.8"
  }
 },
 "nbformat": 4,
 "nbformat_minor": 5
}
